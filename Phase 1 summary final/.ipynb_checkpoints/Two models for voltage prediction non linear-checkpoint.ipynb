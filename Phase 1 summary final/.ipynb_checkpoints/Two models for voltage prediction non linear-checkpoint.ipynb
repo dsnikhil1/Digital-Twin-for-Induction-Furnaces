{
 "cells": [
  {
   "cell_type": "code",
   "execution_count": 1,
   "metadata": {},
   "outputs": [],
   "source": [
    "import numpy as np\n",
    "import pandas as pd\n",
    "import matplotlib.pyplot as plt\n",
    "from sklearn.linear_model import LinearRegression\n",
    "from sklearn.metrics import mean_squared_error\n",
    "from sklearn.metrics import r2_score"
   ]
  },
  {
   "cell_type": "code",
   "execution_count": 2,
   "metadata": {},
   "outputs": [],
   "source": [
    "df = pd.read_csv('Amreli NRM data for model building final.csv')\n",
    "campaign = np.unique(df['campaign'])\n",
    "\n",
    "for c in campaign:\n",
    "    dfc = df[df['campaign']==c]\n",
    "    i = dfc.index[0]\n",
    "    df = df.drop(i)\n",
    "    \n",
    "df = df.reset_index(drop=True)\n",
    "df['Number of capacitors removed'].fillna(0, inplace=True)\n",
    "\n",
    "threshold = 150\n",
    "\n",
    "for i in range(df.shape[0]):\n",
    "    if(df.loc[i,'Total Heat Time previous (minutes)']>threshold):\n",
    "        df.loc[i,'Total Heat Time previous (minutes)']= threshold\n",
    "    if(df.loc[i,'Total Heat Time (minutes)']>threshold):\n",
    "        df.loc[i,'Total Heat Time (minutes)']= threshold\n",
    "        \n",
    "df['Input energy previous (KWH)'] = df['Power previous']*df['Total Heat Time previous (minutes)']/60\n",
    "df['Input energy (KWH)'] = df['Power']*df['Total Heat Time (minutes)']/60"
   ]
  },
  {
   "cell_type": "code",
   "execution_count": 4,
   "metadata": {},
   "outputs": [
    {
     "data": {
      "text/plain": [
       "Index(['campaign', 'Heat number (life number)',\n",
       "       'Total Heat Time previous (minutes)', 'Total Heat Time (minutes)',\n",
       "       'Scrap (MT)', 'Sponge (MT)', 'Hot Heel (MT)', 'Alloys (MT)',\n",
       "       'Input (MT)', 'Final C%', 'Tapping Temperature (C)', 'Output (MT)',\n",
       "       'Input energy previous (KWH)', 'Input energy (KWH)', 'Previous Voltage',\n",
       "       'Previous Frequency', 'Previous Rating of the Furnace', 'Voltage',\n",
       "       'Frequency', 'Rating of the furnace (KW)', 'Melt rate (MT/Hr)',\n",
       "       'Efficiency (MT/KWH)', 'Number of capacitors removed',\n",
       "       'Refractory lining before heating', 'Refractory lining after heating',\n",
       "       'Previous Input', 'Previous Output', 'Power', 'Power previous'],\n",
       "      dtype='object')"
      ]
     },
     "execution_count": 4,
     "metadata": {},
     "output_type": "execute_result"
    }
   ],
   "source": [
    "df.columns"
   ]
  },
  {
   "cell_type": "code",
   "execution_count": 5,
   "metadata": {},
   "outputs": [],
   "source": [
    "df1 = df[df['Number of capacitors removed']==0].reset_index(drop=True)\n",
    "df2 = df[df['Number of capacitors removed']!=0].reset_index(drop=True)"
   ]
  },
  {
   "cell_type": "markdown",
   "metadata": {},
   "source": [
    "# Without Capacitor removal"
   ]
  },
  {
   "cell_type": "code",
   "execution_count": 12,
   "metadata": {},
   "outputs": [
    {
     "name": "stdout",
     "output_type": "stream",
     "text": [
      "Voltage\n",
      "Train score is 2573.0622978765145\n",
      "Test score is 1544.498060086697\n",
      "R2 score is 0.9355223393507034\n",
      "Train NMSE score is 15.097670244450626\n",
      "Test NMSE score is 6.447766064929665\n",
      "Frequency\n",
      "Train score is 9.199292614815265\n",
      "Test score is 2.886873758281543\n",
      "R2 score is 0.935901742398932\n",
      "Train NMSE score is 10.607350751874012\n",
      "Test NMSE score is 6.409825760106805\n",
      "Refractory lining after heating\n",
      "Train score is 2.7031194211736075e-05\n",
      "Test score is 7.175876376530534e-05\n",
      "R2 score is 0.9997666695556623\n",
      "Train NMSE score is 0.008147182157644605\n",
      "Test NMSE score is 0.023333044433776\n",
      "Weight of Scrap (MT) on Voltage is -0.002867865180835507\n",
      "Weight of Sponge (MT) on Voltage is 0.0017990143996006577\n",
      "Weight of Hot Heel (MT) on Voltage is 2.220446049250313e-16\n",
      "Weight of Alloys (MT) on Voltage is -0.048026227907818866\n",
      "Weight of Previous Voltage on Voltage is 0.8380754202749178\n",
      "Weight of Previous Frequency on Voltage is -0.19007486341281804\n",
      "Weight of Refractory lining before heating on Voltage is 0.10728936268944766\n",
      "Weight of Number of capacitors removed on Voltage is 0.0\n",
      "Weight of Tapping Temperature (C) on Voltage is -0.11413282522232632\n",
      "\n",
      "\n",
      "Weight of Scrap (MT) on Frequency is 0.13937265655623507\n",
      "Weight of Sponge (MT) on Frequency is 0.1546537260608961\n",
      "Weight of Hot Heel (MT) on Frequency is -5.551115123125783e-16\n",
      "Weight of Alloys (MT) on Frequency is 0.030041010284367637\n",
      "Weight of Previous Voltage on Frequency is 0.025499543456637797\n",
      "Weight of Previous Frequency on Frequency is 0.8660402707836947\n",
      "Weight of Refractory lining before heating on Frequency is -0.06124397507921004\n",
      "Weight of Number of capacitors removed on Frequency is 0.0\n",
      "Weight of Tapping Temperature (C) on Frequency is -0.016027042579747575\n",
      "\n",
      "\n",
      "Weight of Scrap (MT) on Refractory lining after heating is -0.0009146924610010565\n",
      "Weight of Sponge (MT) on Refractory lining after heating is -0.0012071126528482754\n",
      "Weight of Hot Heel (MT) on Refractory lining after heating is -7.771561172376096e-16\n",
      "Weight of Alloys (MT) on Refractory lining after heating is 0.0020259031779443788\n",
      "Weight of Previous Voltage on Refractory lining after heating is 0.004640233244536236\n",
      "Weight of Previous Frequency on Refractory lining after heating is -0.018554828037600498\n",
      "Weight of Refractory lining before heating on Refractory lining after heating is 0.9799726716772428\n",
      "Weight of Number of capacitors removed on Refractory lining after heating is 0.0\n",
      "Weight of Tapping Temperature (C) on Refractory lining after heating is -0.0023322047872127616\n",
      "\n",
      "\n"
     ]
    }
   ],
   "source": [
    "input_columns = ['Scrap (MT)', 'Sponge (MT)', 'Hot Heel (MT)', 'Alloys (MT)','Previous Voltage','Previous Frequency','Refractory lining before heating','Number of capacitors removed','Tapping Temperature (C)']\n",
    "output_columns = ['Voltage','Frequency','Refractory lining after heating']\n",
    "\n",
    "X_s = df1[input_columns]\n",
    "from sklearn.preprocessing import MinMaxScaler\n",
    "scaler1 = MinMaxScaler()\n",
    "scaler2 = MinMaxScaler()\n",
    "X = scaler1.fit_transform(X_s)\n",
    "\n",
    "X_train = X[:191,:]\n",
    "X_test = X[191:,:]\n",
    "y_s = df1[output_columns]\n",
    "y_s1 = y_s.iloc[:191,:].values\n",
    "y_s2 = y_s.iloc[191:,:].values\n",
    "y = scaler2.fit_transform(y_s)\n",
    "y_train = y[:191,:]\n",
    "y_test = y[191:,:]\n",
    "\n",
    "lr = LinearRegression()\n",
    "lr.fit(X_train, y_train)\n",
    "y_pred_train1 = lr.predict(X_train)\n",
    "y_pred_test1 = lr.predict(X_test)\n",
    "\n",
    "y_pred_train = scaler2.inverse_transform(y_pred_train1)\n",
    "y_pred_test = scaler2.inverse_transform(y_pred_test1)\n",
    "\n",
    "\n",
    "for i in range(3):\n",
    "    print(output_columns[i])\n",
    "    print(\"Train score is {}\".format(mean_squared_error(y_s1[:,i], y_pred_train[:,i])))\n",
    "    print(\"Test score is {}\".format(mean_squared_error(y_s2[:,i], y_pred_test[:,i])))\n",
    "    print(\"R2 score is {}\".format(r2_score(y_s2[:,i], y_pred_test[:,i])))\n",
    "    print(\"Train NMSE score is {}\".format(np.sum(np.square(y_pred_train[:,i]-y_s1[:,i]))/np.sum(np.square(y_s1[:,i]-np.mean(y_s1[:,i])))*100))\n",
    "    print(\"Test NMSE score is {}\".format(np.sum(np.square(y_pred_test[:,i]-y_s2[:,i]))/np.sum(np.square(y_s2[:,i]-np.mean(y_s2[:,i])))*100))\n",
    "\n",
    "for i in range(lr.coef_.shape[0]):\n",
    "    for j in range(lr.coef_.shape[1]):\n",
    "        print(\"Weight of {} on {} is {}\".format(input_columns[j], output_columns[i],lr.coef_[i][j]))\n",
    "    print('\\n')"
   ]
  },
  {
   "cell_type": "code",
   "execution_count": 14,
   "metadata": {},
   "outputs": [],
   "source": [
    "import pickle\n",
    "pickle.dump(lr, open('lin_model_no_capacitors_removed.pkl', 'wb'))\n",
    "pickle.dump(scaler1, open('scaler_input_no_capacitors_removed.pkl', 'wb'))\n",
    "pickle.dump(scaler2, open('scaler_output_no_capacitors_removed.pkl', 'wb'))"
   ]
  },
  {
   "cell_type": "markdown",
   "metadata": {},
   "source": [
    "# Capacitors removed"
   ]
  },
  {
   "cell_type": "code",
   "execution_count": 13,
   "metadata": {},
   "outputs": [
    {
     "name": "stdout",
     "output_type": "stream",
     "text": [
      "Voltage\n",
      "Train score is 8191.7792137506485\n",
      "Test score is 10225.704204549207\n",
      "R2 score is 0.06963319187479755\n",
      "Train NMSE score is 77.40881709012942\n",
      "Test NMSE score is 93.03668081252025\n",
      "Frequency\n",
      "Train score is 26.406419703051668\n",
      "Test score is 41.40223847796711\n",
      "R2 score is 0.9339811887271484\n",
      "Train NMSE score is 4.1198774780208955\n",
      "Test NMSE score is 6.60188112728516\n",
      "Refractory lining after heating\n",
      "Train score is 5.6560996157146714e-05\n",
      "Test score is 0.00020050004809758543\n",
      "R2 score is 0.9980060060909136\n",
      "Train NMSE score is 0.027896040051354765\n",
      "Test NMSE score is 0.1993993909086339\n",
      "Weight of Scrap (MT) on Voltage is -0.3465704330030269\n",
      "Weight of Sponge (MT) on Voltage is -0.38397666347164017\n",
      "Weight of Hot Heel (MT) on Voltage is -1.3877787807814457e-16\n",
      "Weight of Alloys (MT) on Voltage is 0.010877481352767216\n",
      "Weight of Previous Voltage on Voltage is 0.328442410080269\n",
      "Weight of Previous Frequency on Voltage is -0.12101555307536246\n",
      "Weight of Refractory lining before heating on Voltage is 0.30149247616322444\n",
      "Weight of Number of capacitors removed on Voltage is 0.26882723339776393\n",
      "Weight of Tapping Temperature (C) on Voltage is 0.14760009892844675\n",
      "\n",
      "\n",
      "Weight of Scrap (MT) on Frequency is 0.3520892514449352\n",
      "Weight of Sponge (MT) on Frequency is 0.39941804835017913\n",
      "Weight of Hot Heel (MT) on Frequency is 5.551115123125783e-17\n",
      "Weight of Alloys (MT) on Frequency is 0.00012475607744818535\n",
      "Weight of Previous Voltage on Frequency is -0.03361421743882419\n",
      "Weight of Previous Frequency on Frequency is 0.17847295417854064\n",
      "Weight of Refractory lining before heating on Frequency is -0.059076464586178164\n",
      "Weight of Number of capacitors removed on Frequency is 0.5814610086714076\n",
      "Weight of Tapping Temperature (C) on Frequency is 0.00951359081196017\n",
      "\n",
      "\n",
      "Weight of Scrap (MT) on Refractory lining after heating is 0.00841597595889897\n",
      "Weight of Sponge (MT) on Refractory lining after heating is -0.004256264117299636\n",
      "Weight of Hot Heel (MT) on Refractory lining after heating is 5.551115123125783e-17\n",
      "Weight of Alloys (MT) on Refractory lining after heating is 0.005654320918388273\n",
      "Weight of Previous Voltage on Refractory lining after heating is -0.0023437698873092286\n",
      "Weight of Previous Frequency on Refractory lining after heating is -0.010969446193530793\n",
      "Weight of Refractory lining before heating on Refractory lining after heating is 0.9935219048849016\n",
      "Weight of Number of capacitors removed on Refractory lining after heating is -0.002307049584472127\n",
      "Weight of Tapping Temperature (C) on Refractory lining after heating is 0.001777139801609908\n",
      "\n",
      "\n"
     ]
    }
   ],
   "source": [
    "input_columns = ['Scrap (MT)', 'Sponge (MT)', 'Hot Heel (MT)', 'Alloys (MT)','Previous Voltage','Previous Frequency','Refractory lining before heating','Number of capacitors removed','Tapping Temperature (C)']\n",
    "output_columns = ['Voltage','Frequency','Refractory lining after heating']\n",
    "\n",
    "X = df[input_columns]\n",
    "X_train = X.iloc[:318,:].values\n",
    "X_test = X.iloc[318:,:].values\n",
    "y = df[output_columns]\n",
    "y_train = y.iloc[:318,:].values\n",
    "y_test = y.iloc[318:,:].values\n",
    "\n",
    "scaler1 = MinMaxScaler()\n",
    "normalized_X_train = scaler1.fit_transform(X_train)\n",
    "normalized_X_test = scaler1.transform(X_test)\n",
    "\n",
    "scaler2 = MinMaxScaler()\n",
    "normalized_y_train = scaler2.fit_transform(y_train)\n",
    "normalized_y_test = scaler2.transform(y_test)\n",
    "\n",
    "X_train = X[:127,:]\n",
    "X_test = X[127:,:]\n",
    "y_s = df2[output_columns]\n",
    "y_s1 = y_s.iloc[:127,:].values\n",
    "y_s2 = y_s.iloc[127:,:].values\n",
    "y = scaler2.fit_transform(y_s)\n",
    "y_train = y[:127,:]\n",
    "y_test = y[127:,:]\n",
    "\n",
    "lr = LinearRegression()\n",
    "lr.fit(X_train, y_train)\n",
    "y_pred_train1 = lr.predict(X_train)\n",
    "y_pred_test1 = lr.predict(X_test)\n",
    "\n",
    "y_pred_train = scaler2.inverse_transform(y_pred_train1)\n",
    "y_pred_test = scaler2.inverse_transform(y_pred_test1)\n",
    "\n",
    "\n",
    "for i in range(3):\n",
    "    print(output_columns[i])\n",
    "    print(\"Train score is {}\".format(mean_squared_error(y_s1[:,i], y_pred_train[:,i])))\n",
    "    print(\"Test score is {}\".format(mean_squared_error(y_s2[:,i], y_pred_test[:,i])))\n",
    "    print(\"R2 score is {}\".format(r2_score(y_s2[:,i], y_pred_test[:,i])))\n",
    "    print(\"Train NMSE score is {}\".format(np.sum(np.square(y_pred_train[:,i]-y_s1[:,i]))/np.sum(np.square(y_s1[:,i]-np.mean(y_s1[:,i])))*100))\n",
    "    print(\"Test NMSE score is {}\".format(np.sum(np.square(y_pred_test[:,i]-y_s2[:,i]))/np.sum(np.square(y_s2[:,i]-np.mean(y_s2[:,i])))*100))\n",
    "\n",
    "for i in range(lr.coef_.shape[0]):\n",
    "    for j in range(lr.coef_.shape[1]):\n",
    "        print(\"Weight of {} on {} is {}\".format(input_columns[j], output_columns[i],lr.coef_[i][j]))\n",
    "    print('\\n')"
   ]
  },
  {
   "cell_type": "code",
   "execution_count": 15,
   "metadata": {},
   "outputs": [],
   "source": [
    "import pickle\n",
    "pickle.dump(lr, open('lin_model_capacitors_removed.pkl', 'wb'))\n",
    "pickle.dump(scaler1, open('scaler_input_capacitors_removed.pkl', 'wb'))\n",
    "pickle.dump(scaler2, open('scaler_output_capacitors_removed.pkl', 'wb'))"
   ]
  },
  {
   "cell_type": "code",
   "execution_count": null,
   "metadata": {},
   "outputs": [],
   "source": []
  }
 ],
 "metadata": {
  "kernelspec": {
   "display_name": "Python 3",
   "language": "python",
   "name": "python3"
  },
  "language_info": {
   "codemirror_mode": {
    "name": "ipython",
    "version": 3
   },
   "file_extension": ".py",
   "mimetype": "text/x-python",
   "name": "python",
   "nbconvert_exporter": "python",
   "pygments_lexer": "ipython3",
   "version": "3.7.4"
  }
 },
 "nbformat": 4,
 "nbformat_minor": 2
}
