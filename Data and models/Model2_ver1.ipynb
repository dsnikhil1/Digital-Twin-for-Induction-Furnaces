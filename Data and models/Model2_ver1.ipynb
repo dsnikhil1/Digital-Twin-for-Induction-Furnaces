{
 "cells": [
  {
   "cell_type": "code",
   "execution_count": 9,
   "metadata": {},
   "outputs": [],
   "source": [
    "import pandas as pd\n",
    "import matplotlib.pyplot as plt\n",
    "import numpy as np\n",
    "import seaborn as sns\n",
    "from sklearn.linear_model import LinearRegression\n",
    "from sklearn.model_selection import train_test_split\n",
    "from sklearn import preprocessing\n",
    "from sklearn.metrics import mean_squared_error\n",
    "from sklearn.metrics import r2_score"
   ]
  },
  {
   "cell_type": "code",
   "execution_count": 10,
   "metadata": {},
   "outputs": [],
   "source": [
    "Data_all = pd.read_csv('Amreli NRM data for model building.csv')"
   ]
  },
  {
   "cell_type": "code",
   "execution_count": 11,
   "metadata": {},
   "outputs": [
    {
     "data": {
      "text/html": [
       "<div>\n",
       "<style scoped>\n",
       "    .dataframe tbody tr th:only-of-type {\n",
       "        vertical-align: middle;\n",
       "    }\n",
       "\n",
       "    .dataframe tbody tr th {\n",
       "        vertical-align: top;\n",
       "    }\n",
       "\n",
       "    .dataframe thead th {\n",
       "        text-align: right;\n",
       "    }\n",
       "</style>\n",
       "<table border=\"1\" class=\"dataframe\">\n",
       "  <thead>\n",
       "    <tr style=\"text-align: right;\">\n",
       "      <th></th>\n",
       "      <th>campaign</th>\n",
       "      <th>Heat number (life number)</th>\n",
       "      <th>Total Heat Time (minutes)</th>\n",
       "      <th>Scrap (MT)</th>\n",
       "      <th>Sponge (MT)</th>\n",
       "      <th>Hot Heel (MT)</th>\n",
       "      <th>Alloys (MT)</th>\n",
       "      <th>Input (MT)</th>\n",
       "      <th>Final C%</th>\n",
       "      <th>Tapping Temperature (C)</th>\n",
       "      <th>...</th>\n",
       "      <th>Previous Frequency</th>\n",
       "      <th>Previous Rating of the Furnace</th>\n",
       "      <th>Voltage</th>\n",
       "      <th>Frequency</th>\n",
       "      <th>Rating of the furnace (KW)</th>\n",
       "      <th>Melt rate (MT/Hr)</th>\n",
       "      <th>Efficiency (MT/KWH)</th>\n",
       "      <th>Number of capacitors removed</th>\n",
       "      <th>Refractory lining before heating</th>\n",
       "      <th>Refractory lining after heating</th>\n",
       "    </tr>\n",
       "  </thead>\n",
       "  <tbody>\n",
       "    <tr>\n",
       "      <td>0</td>\n",
       "      <td>1</td>\n",
       "      <td>1.0</td>\n",
       "      <td>130.0</td>\n",
       "      <td>0.0</td>\n",
       "      <td>39.467073</td>\n",
       "      <td>0</td>\n",
       "      <td>0.280</td>\n",
       "      <td>39.747073</td>\n",
       "      <td>0.201</td>\n",
       "      <td>1693.0</td>\n",
       "      <td>...</td>\n",
       "      <td>0.0</td>\n",
       "      <td>0.0</td>\n",
       "      <td>3728.0</td>\n",
       "      <td>273.0</td>\n",
       "      <td>3728.0</td>\n",
       "      <td>15.066000</td>\n",
       "      <td>0.001258</td>\n",
       "      <td>0.0</td>\n",
       "      <td>6.750000</td>\n",
       "      <td>6.687037</td>\n",
       "    </tr>\n",
       "    <tr>\n",
       "      <td>1</td>\n",
       "      <td>1</td>\n",
       "      <td>2.0</td>\n",
       "      <td>135.0</td>\n",
       "      <td>11.0</td>\n",
       "      <td>23.531707</td>\n",
       "      <td>0</td>\n",
       "      <td>0.390</td>\n",
       "      <td>34.921707</td>\n",
       "      <td>0.204</td>\n",
       "      <td>1685.0</td>\n",
       "      <td>...</td>\n",
       "      <td>273.0</td>\n",
       "      <td>3728.0</td>\n",
       "      <td>3740.0</td>\n",
       "      <td>274.0</td>\n",
       "      <td>3740.0</td>\n",
       "      <td>13.540444</td>\n",
       "      <td>0.001500</td>\n",
       "      <td>0.0</td>\n",
       "      <td>6.687037</td>\n",
       "      <td>6.624074</td>\n",
       "    </tr>\n",
       "    <tr>\n",
       "      <td>2</td>\n",
       "      <td>1</td>\n",
       "      <td>3.0</td>\n",
       "      <td>125.0</td>\n",
       "      <td>12.0</td>\n",
       "      <td>19.678049</td>\n",
       "      <td>0</td>\n",
       "      <td>0.394</td>\n",
       "      <td>32.072049</td>\n",
       "      <td>0.203</td>\n",
       "      <td>1633.0</td>\n",
       "      <td>...</td>\n",
       "      <td>274.0</td>\n",
       "      <td>3740.0</td>\n",
       "      <td>3731.0</td>\n",
       "      <td>275.0</td>\n",
       "      <td>3731.0</td>\n",
       "      <td>13.579200</td>\n",
       "      <td>0.001582</td>\n",
       "      <td>0.0</td>\n",
       "      <td>6.624074</td>\n",
       "      <td>6.561111</td>\n",
       "    </tr>\n",
       "    <tr>\n",
       "      <td>3</td>\n",
       "      <td>1</td>\n",
       "      <td>4.0</td>\n",
       "      <td>110.0</td>\n",
       "      <td>12.0</td>\n",
       "      <td>16.956098</td>\n",
       "      <td>0</td>\n",
       "      <td>0.450</td>\n",
       "      <td>29.406098</td>\n",
       "      <td>0.192</td>\n",
       "      <td>1686.0</td>\n",
       "      <td>...</td>\n",
       "      <td>275.0</td>\n",
       "      <td>3731.0</td>\n",
       "      <td>3764.0</td>\n",
       "      <td>270.0</td>\n",
       "      <td>3764.0</td>\n",
       "      <td>14.244000</td>\n",
       "      <td>0.001628</td>\n",
       "      <td>0.0</td>\n",
       "      <td>6.561111</td>\n",
       "      <td>6.498148</td>\n",
       "    </tr>\n",
       "    <tr>\n",
       "      <td>4</td>\n",
       "      <td>1</td>\n",
       "      <td>5.0</td>\n",
       "      <td>115.0</td>\n",
       "      <td>13.0</td>\n",
       "      <td>17.032927</td>\n",
       "      <td>0</td>\n",
       "      <td>0.495</td>\n",
       "      <td>30.527927</td>\n",
       "      <td>0.196</td>\n",
       "      <td>1689.0</td>\n",
       "      <td>...</td>\n",
       "      <td>270.0</td>\n",
       "      <td>3764.0</td>\n",
       "      <td>3756.0</td>\n",
       "      <td>274.0</td>\n",
       "      <td>3756.0</td>\n",
       "      <td>14.192348</td>\n",
       "      <td>0.001568</td>\n",
       "      <td>0.0</td>\n",
       "      <td>6.498148</td>\n",
       "      <td>6.435185</td>\n",
       "    </tr>\n",
       "    <tr>\n",
       "      <td>...</td>\n",
       "      <td>...</td>\n",
       "      <td>...</td>\n",
       "      <td>...</td>\n",
       "      <td>...</td>\n",
       "      <td>...</td>\n",
       "      <td>...</td>\n",
       "      <td>...</td>\n",
       "      <td>...</td>\n",
       "      <td>...</td>\n",
       "      <td>...</td>\n",
       "      <td>...</td>\n",
       "      <td>...</td>\n",
       "      <td>...</td>\n",
       "      <td>...</td>\n",
       "      <td>...</td>\n",
       "      <td>...</td>\n",
       "      <td>...</td>\n",
       "      <td>...</td>\n",
       "      <td>...</td>\n",
       "      <td>...</td>\n",
       "      <td>...</td>\n",
       "    </tr>\n",
       "    <tr>\n",
       "      <td>444</td>\n",
       "      <td>9</td>\n",
       "      <td>59.0</td>\n",
       "      <td>130.0</td>\n",
       "      <td>0.0</td>\n",
       "      <td>34.835366</td>\n",
       "      <td>0</td>\n",
       "      <td>0.635</td>\n",
       "      <td>35.470366</td>\n",
       "      <td>0.249</td>\n",
       "      <td>1679.0</td>\n",
       "      <td>...</td>\n",
       "      <td>314.0</td>\n",
       "      <td>3403.0</td>\n",
       "      <td>3366.0</td>\n",
       "      <td>362.0</td>\n",
       "      <td>3366.0</td>\n",
       "      <td>13.476923</td>\n",
       "      <td>0.001602</td>\n",
       "      <td>8.0</td>\n",
       "      <td>4.141535</td>\n",
       "      <td>4.096561</td>\n",
       "    </tr>\n",
       "    <tr>\n",
       "      <td>445</td>\n",
       "      <td>9</td>\n",
       "      <td>60.0</td>\n",
       "      <td>110.0</td>\n",
       "      <td>0.0</td>\n",
       "      <td>31.128049</td>\n",
       "      <td>0</td>\n",
       "      <td>0.585</td>\n",
       "      <td>31.713049</td>\n",
       "      <td>0.236</td>\n",
       "      <td>1652.0</td>\n",
       "      <td>...</td>\n",
       "      <td>362.0</td>\n",
       "      <td>3366.0</td>\n",
       "      <td>3498.0</td>\n",
       "      <td>328.0</td>\n",
       "      <td>3498.0</td>\n",
       "      <td>14.241818</td>\n",
       "      <td>0.001685</td>\n",
       "      <td>6.0</td>\n",
       "      <td>4.096561</td>\n",
       "      <td>4.051588</td>\n",
       "    </tr>\n",
       "    <tr>\n",
       "      <td>446</td>\n",
       "      <td>9</td>\n",
       "      <td>61.0</td>\n",
       "      <td>105.0</td>\n",
       "      <td>0.0</td>\n",
       "      <td>30.079268</td>\n",
       "      <td>0</td>\n",
       "      <td>0.365</td>\n",
       "      <td>30.444268</td>\n",
       "      <td>0.212</td>\n",
       "      <td>1650.0</td>\n",
       "      <td>...</td>\n",
       "      <td>328.0</td>\n",
       "      <td>3498.0</td>\n",
       "      <td>3428.0</td>\n",
       "      <td>351.0</td>\n",
       "      <td>3428.0</td>\n",
       "      <td>14.302857</td>\n",
       "      <td>0.001637</td>\n",
       "      <td>8.0</td>\n",
       "      <td>4.051588</td>\n",
       "      <td>4.006614</td>\n",
       "    </tr>\n",
       "    <tr>\n",
       "      <td>447</td>\n",
       "      <td>9</td>\n",
       "      <td>62.0</td>\n",
       "      <td>145.0</td>\n",
       "      <td>0.0</td>\n",
       "      <td>37.487805</td>\n",
       "      <td>0</td>\n",
       "      <td>0.710</td>\n",
       "      <td>38.197805</td>\n",
       "      <td>0.226</td>\n",
       "      <td>1701.0</td>\n",
       "      <td>...</td>\n",
       "      <td>351.0</td>\n",
       "      <td>3428.0</td>\n",
       "      <td>3210.0</td>\n",
       "      <td>368.0</td>\n",
       "      <td>3210.0</td>\n",
       "      <td>13.013793</td>\n",
       "      <td>0.001575</td>\n",
       "      <td>8.0</td>\n",
       "      <td>4.006614</td>\n",
       "      <td>3.961641</td>\n",
       "    </tr>\n",
       "    <tr>\n",
       "      <td>448</td>\n",
       "      <td>9</td>\n",
       "      <td>63.0</td>\n",
       "      <td>110.0</td>\n",
       "      <td>0.0</td>\n",
       "      <td>29.920732</td>\n",
       "      <td>0</td>\n",
       "      <td>0.735</td>\n",
       "      <td>30.655732</td>\n",
       "      <td>0.229</td>\n",
       "      <td>1666.0</td>\n",
       "      <td>...</td>\n",
       "      <td>368.0</td>\n",
       "      <td>3210.0</td>\n",
       "      <td>3210.0</td>\n",
       "      <td>368.0</td>\n",
       "      <td>3210.0</td>\n",
       "      <td>13.783636</td>\n",
       "      <td>0.001590</td>\n",
       "      <td>8.0</td>\n",
       "      <td>3.961641</td>\n",
       "      <td>3.916667</td>\n",
       "    </tr>\n",
       "  </tbody>\n",
       "</table>\n",
       "<p>449 rows × 23 columns</p>\n",
       "</div>"
      ],
      "text/plain": [
       "     campaign  Heat number (life number)  Total Heat Time (minutes)  \\\n",
       "0           1                        1.0                      130.0   \n",
       "1           1                        2.0                      135.0   \n",
       "2           1                        3.0                      125.0   \n",
       "3           1                        4.0                      110.0   \n",
       "4           1                        5.0                      115.0   \n",
       "..        ...                        ...                        ...   \n",
       "444         9                       59.0                      130.0   \n",
       "445         9                       60.0                      110.0   \n",
       "446         9                       61.0                      105.0   \n",
       "447         9                       62.0                      145.0   \n",
       "448         9                       63.0                      110.0   \n",
       "\n",
       "     Scrap (MT)  Sponge (MT)  Hot Heel (MT)  Alloys (MT)  Input (MT)  \\\n",
       "0           0.0    39.467073              0        0.280   39.747073   \n",
       "1          11.0    23.531707              0        0.390   34.921707   \n",
       "2          12.0    19.678049              0        0.394   32.072049   \n",
       "3          12.0    16.956098              0        0.450   29.406098   \n",
       "4          13.0    17.032927              0        0.495   30.527927   \n",
       "..          ...          ...            ...          ...         ...   \n",
       "444         0.0    34.835366              0        0.635   35.470366   \n",
       "445         0.0    31.128049              0        0.585   31.713049   \n",
       "446         0.0    30.079268              0        0.365   30.444268   \n",
       "447         0.0    37.487805              0        0.710   38.197805   \n",
       "448         0.0    29.920732              0        0.735   30.655732   \n",
       "\n",
       "     Final C%  Tapping Temperature (C)  ...  Previous Frequency  \\\n",
       "0       0.201                   1693.0  ...                 0.0   \n",
       "1       0.204                   1685.0  ...               273.0   \n",
       "2       0.203                   1633.0  ...               274.0   \n",
       "3       0.192                   1686.0  ...               275.0   \n",
       "4       0.196                   1689.0  ...               270.0   \n",
       "..        ...                      ...  ...                 ...   \n",
       "444     0.249                   1679.0  ...               314.0   \n",
       "445     0.236                   1652.0  ...               362.0   \n",
       "446     0.212                   1650.0  ...               328.0   \n",
       "447     0.226                   1701.0  ...               351.0   \n",
       "448     0.229                   1666.0  ...               368.0   \n",
       "\n",
       "     Previous Rating of the Furnace  Voltage  Frequency  \\\n",
       "0                               0.0   3728.0      273.0   \n",
       "1                            3728.0   3740.0      274.0   \n",
       "2                            3740.0   3731.0      275.0   \n",
       "3                            3731.0   3764.0      270.0   \n",
       "4                            3764.0   3756.0      274.0   \n",
       "..                              ...      ...        ...   \n",
       "444                          3403.0   3366.0      362.0   \n",
       "445                          3366.0   3498.0      328.0   \n",
       "446                          3498.0   3428.0      351.0   \n",
       "447                          3428.0   3210.0      368.0   \n",
       "448                          3210.0   3210.0      368.0   \n",
       "\n",
       "     Rating of the furnace (KW)  Melt rate (MT/Hr)  Efficiency (MT/KWH)  \\\n",
       "0                        3728.0          15.066000             0.001258   \n",
       "1                        3740.0          13.540444             0.001500   \n",
       "2                        3731.0          13.579200             0.001582   \n",
       "3                        3764.0          14.244000             0.001628   \n",
       "4                        3756.0          14.192348             0.001568   \n",
       "..                          ...                ...                  ...   \n",
       "444                      3366.0          13.476923             0.001602   \n",
       "445                      3498.0          14.241818             0.001685   \n",
       "446                      3428.0          14.302857             0.001637   \n",
       "447                      3210.0          13.013793             0.001575   \n",
       "448                      3210.0          13.783636             0.001590   \n",
       "\n",
       "     Number of capacitors removed  Refractory lining before heating  \\\n",
       "0                             0.0                          6.750000   \n",
       "1                             0.0                          6.687037   \n",
       "2                             0.0                          6.624074   \n",
       "3                             0.0                          6.561111   \n",
       "4                             0.0                          6.498148   \n",
       "..                            ...                               ...   \n",
       "444                           8.0                          4.141535   \n",
       "445                           6.0                          4.096561   \n",
       "446                           8.0                          4.051588   \n",
       "447                           8.0                          4.006614   \n",
       "448                           8.0                          3.961641   \n",
       "\n",
       "     Refractory lining after heating  \n",
       "0                           6.687037  \n",
       "1                           6.624074  \n",
       "2                           6.561111  \n",
       "3                           6.498148  \n",
       "4                           6.435185  \n",
       "..                               ...  \n",
       "444                         4.096561  \n",
       "445                         4.051588  \n",
       "446                         4.006614  \n",
       "447                         3.961641  \n",
       "448                         3.916667  \n",
       "\n",
       "[449 rows x 23 columns]"
      ]
     },
     "execution_count": 11,
     "metadata": {},
     "output_type": "execute_result"
    }
   ],
   "source": [
    "Data_all"
   ]
  },
  {
   "cell_type": "code",
   "execution_count": 12,
   "metadata": {},
   "outputs": [
    {
     "data": {
      "text/plain": [
       "Index(['campaign', 'Heat number (life number)', 'Total Heat Time (minutes)',\n",
       "       'Scrap (MT)', 'Sponge (MT)', 'Hot Heel (MT)', 'Alloys (MT)',\n",
       "       'Input (MT)', 'Final C%', 'Tapping Temperature (C)', 'Output (MT)',\n",
       "       'Input energy (KWH)', 'Previous Voltage', 'Previous Frequency',\n",
       "       'Previous Rating of the Furnace', 'Voltage', 'Frequency',\n",
       "       'Rating of the furnace (KW)', 'Melt rate (MT/Hr)',\n",
       "       'Efficiency (MT/KWH)', 'Number of capacitors removed',\n",
       "       'Refractory lining before heating', 'Refractory lining after heating'],\n",
       "      dtype='object')"
      ]
     },
     "execution_count": 12,
     "metadata": {},
     "output_type": "execute_result"
    }
   ],
   "source": [
    "Data_all.columns"
   ]
  },
  {
   "cell_type": "code",
   "execution_count": 13,
   "metadata": {},
   "outputs": [],
   "source": [
    "columns = ['campaign','Heat number (life number)','Previous Voltage','Previous Frequency','Refractory lining before heating','Number of capacitors removed','Voltage']\n",
    "Data = Data_all[columns]\n",
    "Data = Data[Data['Heat number (life number)']>1]\n"
   ]
  },
  {
   "cell_type": "code",
   "execution_count": 14,
   "metadata": {},
   "outputs": [
    {
     "data": {
      "image/png": "[encoded data removed]",
      "text/plain": [
       "<Figure size 432x288 with 2 Axes>"
      ]
     },
     "metadata": {
      "needs_background": "light"
     },
     "output_type": "display_data"
    },
    {
     "data": {
      "image/png": "[encoded data removed]",
      "text/plain": [
       "<Figure size 432x288 with 2 Axes>"
      ]
     },
     "metadata": {
      "needs_background": "light"
     },
     "output_type": "display_data"
    },
    {
     "data": {
      "image/png": "[encoded data removed]",
      "text/plain": [
       "<Figure size 432x288 with 2 Axes>"
      ]
     },
     "metadata": {
      "needs_background": "light"
     },
     "output_type": "display_data"
    }
   ],
   "source": [
    "for i in range(1,4):\n",
    "    fig,ax = plt.subplots()\n",
    "    ax.plot(Data[Data['campaign']==i]['Heat number (life number)'], Data[Data['campaign']==i]['Voltage'], color=\"red\", marker=\"o\")\n",
    "    ax.set_xlabel(\"Heat number\",fontsize=14)\n",
    "    ax.set_ylabel(\"Voltage\",color=\"red\",fontsize=14)\n",
    "    ax2=ax.twinx()\n",
    "    ax2.plot(Data[Data['campaign']==i]['Heat number (life number)'], Data[Data['campaign']==i]['Number of capacitors removed'],color=\"blue\",marker=\"o\")\n",
    "    ax2.set_ylabel(\"Number of capacitors removed\",color=\"blue\",fontsize=14)\n",
    "    plt.show()\n"
   ]
  },
  {
   "cell_type": "code",
   "execution_count": 15,
   "metadata": {},
   "outputs": [],
   "source": [
    "Data_train = Data[Data['campaign']<8.0]\n",
    "Data_test = Data[Data['campaign']>=8.0]\n",
    "col = ['campaign','Heat number (life number)']\n",
    "Data_train = Data[Data['campaign']<8.0]\n",
    "Data_test = Data[Data['campaign']>=8]\n",
    "Data_train = Data_train.drop(columns=col,axis=1).reset_index()\n",
    "Data_train = Data_train.drop(columns='index',axis=1)\n",
    "Data_test = Data_test.drop(columns=col,axis=1).reset_index()\n",
    "Data_test = Data_test.drop(columns='index',axis=1)\n"
   ]
  },
  {
   "cell_type": "code",
   "execution_count": 16,
   "metadata": {
    "scrolled": true
   },
   "outputs": [],
   "source": [
    "X_train = Data_train.drop(columns='Voltage',axis=1)\n",
    "X_test = Data_test.drop(columns='Voltage',axis=1)\n",
    "y_train = Data_train['Voltage']\n",
    "y_test = Data_test['Voltage']\n",
    "X_train = X_train.fillna(0)"
   ]
  },
  {
   "cell_type": "code",
   "execution_count": 17,
   "metadata": {},
   "outputs": [
    {
     "data": {
      "text/plain": [
       "0      3740.0\n",
       "1      3731.0\n",
       "2      3764.0\n",
       "3      3756.0\n",
       "4      3675.0\n",
       "        ...  \n",
       "313    3270.0\n",
       "314    3357.0\n",
       "315    3318.0\n",
       "316    3366.0\n",
       "317    3424.0\n",
       "Name: Voltage, Length: 318, dtype: float64"
      ]
     },
     "execution_count": 17,
     "metadata": {},
     "output_type": "execute_result"
    }
   ],
   "source": [
    "y_train"
   ]
  },
  {
   "cell_type": "code",
   "execution_count": 18,
   "metadata": {
    "scrolled": true
   },
   "outputs": [
    {
     "name": "stdout",
     "output_type": "stream",
     "text": [
      "Mean squared error on training set is 5795.678355602581\n",
      "Mean squared error on testing set is 5643.292708631155\n",
      "R_squared is 0.8338919384311905\n",
      "Previous Voltage weight is : 0.6700398497461373\n",
      "Previous Frequency weight is : -1.4657666004338554\n",
      "Refractory lining before heating weight is : 56.079531723271536\n",
      "Number of capacitors removed weight is : 19.763420602979764\n"
     ]
    }
   ],
   "source": [
    "#normalized\n",
    "#Taking features and target\n",
    "from sklearn.preprocessing import MinMaxScaler\n",
    "#Standardizing data\n",
    "# normalizer1 = preprocessing.MinMaxScaler()\n",
    "# normalized_X_train = normalizer1.fit_transform(X_train)\n",
    "# normalized_X_test = normalizer1.transform(X_test)\n",
    "# normalizer2 = preprocessing.MinMaxScaler()\n",
    "# normalized_y_train = normalizer2.fit_transform(np.array(y_train).reshape(-1,1))\n",
    "# normalized_y_test = normalizer2.transform(np.array(y_test).reshape(-1,1))\n",
    "normalized_X_train = X_train\n",
    "normalized_y_train = y_train\n",
    "normalized_X_test = X_test\n",
    "normalized_y_test = y_test\n",
    "\n",
    "\n",
    "\n",
    "cols = X_train.columns\n",
    "#Building linear regression model with output as the target variable\n",
    "lr = LinearRegression()\n",
    "lr.fit(normalized_X_train, normalized_y_train)\n",
    "y_pred_train = lr.predict(normalized_X_train)\n",
    "y_pred_test = lr.predict(normalized_X_test)\n",
    "pred_train = y_pred_train\n",
    "pred_test = y_pred_test\n",
    "# pred_train = normalizer2.inverse_transform(y_pred_train)\n",
    "# pred_test = normalizer2.inverse_transform(y_pred_test)\n",
    "print(\"Mean squared error on training set is {}\".format(mean_squared_error(y_train, pred_train)))\n",
    "print(\"Mean squared error on testing set is {}\".format(mean_squared_error(y_test, pred_test)))\n",
    "\n",
    "print(\"R_squared is {}\".format(r2_score(y_test, pred_test)))\n",
    "for i in range(X_train.shape[1]):\n",
    "    print(cols[i]+' weight is : {}'.format(lr.coef_[i]))"
   ]
  },
  {
   "cell_type": "code",
   "execution_count": 19,
   "metadata": {},
   "outputs": [
    {
     "data": {
      "image/png": "[encoded data removed]",
      "text/plain": [
       "<Figure size 432x288 with 1 Axes>"
      ]
     },
     "metadata": {
      "needs_background": "light"
     },
     "output_type": "display_data"
    },
    {
     "data": {
      "image/png": "[encoded data removed]",
      "text/plain": [
       "<Figure size 432x288 with 1 Axes>"
      ]
     },
     "metadata": {
      "needs_background": "light"
     },
     "output_type": "display_data"
    }
   ],
   "source": [
    "plt.scatter(y_train, pred_train, c='b');\n",
    "plt.xlabel('Training data')\n",
    "plt.ylabel('Predicted value')\n",
    "plt.title('Training data vs Prediction')\n",
    "plt.show()\n",
    "\n",
    "plt.scatter(y_test, pred_test, c='r');\n",
    "plt.xlabel('Testing data')\n",
    "plt.ylabel('Predicted value')\n",
    "plt.title('Testing data vs Prediction')\n",
    "plt.show()"
   ]
  },
  {
   "cell_type": "code",
   "execution_count": 20,
   "metadata": {},
   "outputs": [
    {
     "name": "stdout",
     "output_type": "stream",
     "text": [
      "Normalised MSE 0.045682924142019826\n",
      "Normalised MSE 0.04425145417406371\n"
     ]
    }
   ],
   "source": [
    "error_train = np.sum(np.square(pred_train-np.array(y_train)))\n",
    "nmse_train = (error_train/np.sum(np.square(np.array(y_train))-np.mean(np.array(y_train))))*100\n",
    "print('Normalised MSE',nmse_train)\n",
    "error_test = np.sum(np.square(pred_test-np.array(y_test)))\n",
    "nmse_test = (error_test/np.sum(np.square(np.array(y_test))-np.mean(np.array(y_test))))*100\n",
    "print('Normalised MSE',nmse_test)"
   ]
  },
  {
   "cell_type": "code",
   "execution_count": 21,
   "metadata": {},
   "outputs": [
    {
     "name": "stdout",
     "output_type": "stream",
     "text": [
      "Train NMSE score is 21.16276965096352\n",
      "Test NMSE score is 16.61080615688095\n"
     ]
    }
   ],
   "source": [
    "print(\"Train NMSE score is {}\".format(np.sum(np.square(y_pred_train-y_train))/np.sum(np.square(y_train-np.mean(y_train)))*100))\n",
    "print(\"Test NMSE score is {}\".format(np.sum(np.square(y_pred_test-y_test))/np.sum(np.square(y_test-np.mean(y_test)))*100))"
   ]
  },
  {
   "cell_type": "code",
   "execution_count": null,
   "metadata": {},
   "outputs": [],
   "source": []
  }
 ],
 "metadata": {
  "kernelspec": {
   "display_name": "Python 3",
   "language": "python",
   "name": "python3"
  },
  "language_info": {
   "codemirror_mode": {
    "name": "ipython",
    "version": 3
   },
   "file_extension": ".py",
   "mimetype": "text/x-python",
   "name": "python",
   "nbconvert_exporter": "python",
   "pygments_lexer": "ipython3",
   "version": "3.7.4"
  }
 },
 "nbformat": 4,
 "nbformat_minor": 4
}
