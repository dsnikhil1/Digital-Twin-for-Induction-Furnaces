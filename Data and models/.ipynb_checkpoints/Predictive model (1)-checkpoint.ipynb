{
 "cells": [
  {
   "cell_type": "code",
   "execution_count": 1,
   "metadata": {},
   "outputs": [],
   "source": [
    "import numpy as np\n",
    "import pandas as pd\n",
    "import matplotlib.pyplot as plt\n",
    "import seaborn as sns\n",
    "import tensorflow as tf\n",
    "from sklearn.metrics import mean_squared_error\n",
    "from sklearn.metrics import r2_score\n",
    "import pickle"
   ]
  },
  {
   "cell_type": "code",
   "execution_count": 2,
   "metadata": {},
   "outputs": [],
   "source": [
    "model = pickle.load(open('D:\\customerdatacompilation\\Predictive model\\lin_model.pkl', 'rb'))\n",
    "scaler_input = pickle.load(open('D:\\customerdatacompilation\\Predictive model\\scaler_input.pkl', 'rb'))\n",
    "scaler_output = pickle.load(open('D:\\customerdatacompilation\\Predictive model\\scaler_output.pkl', 'rb'))"
   ]
  },
  {
   "cell_type": "code",
   "execution_count": 3,
   "metadata": {},
   "outputs": [],
   "source": [
    "df = pd.read_csv('Amreli NRM data for Predictive modelling.csv')\n",
    "campaign = np.unique(df['campaign'])\n",
    "\n",
    "for c in campaign:\n",
    "    dfc = df[df['campaign']==c]\n",
    "    i = dfc.index[0]\n",
    "    df = df.drop(i)\n",
    "    \n",
    "df = df.reset_index(drop=True)\n",
    "df['Number of capacitors removed'].fillna(0, inplace=True)\n",
    "\n",
    "df1 = df[df['campaign']==8]\n",
    "\n",
    "df1_init = df1[df1['Heat number (life number)']==2]\n"
   ]
  },
  {
   "cell_type": "code",
   "execution_count": 4,
   "metadata": {},
   "outputs": [
    {
     "data": {
      "text/html": [
       "<div>\n",
       "<style scoped>\n",
       "    .dataframe tbody tr th:only-of-type {\n",
       "        vertical-align: middle;\n",
       "    }\n",
       "\n",
       "    .dataframe tbody tr th {\n",
       "        vertical-align: top;\n",
       "    }\n",
       "\n",
       "    .dataframe thead th {\n",
       "        text-align: right;\n",
       "    }\n",
       "</style>\n",
       "<table border=\"1\" class=\"dataframe\">\n",
       "  <thead>\n",
       "    <tr style=\"text-align: right;\">\n",
       "      <th></th>\n",
       "      <th>campaign</th>\n",
       "      <th>Heat number (life number)</th>\n",
       "      <th>Total Heat Time previous (minutes)</th>\n",
       "      <th>Total Heat Time (minutes)</th>\n",
       "      <th>Scrap (MT)</th>\n",
       "      <th>Sponge (MT)</th>\n",
       "      <th>Hot Heel (MT)</th>\n",
       "      <th>Alloys (MT)</th>\n",
       "      <th>Previous Input (MT)</th>\n",
       "      <th>Input (MT)</th>\n",
       "      <th>...</th>\n",
       "      <th>Previous Rating of the Furnace</th>\n",
       "      <th>Voltage</th>\n",
       "      <th>Frequency</th>\n",
       "      <th>Rating of the furnace (KW)</th>\n",
       "      <th>Melt rate (MT/Hr)</th>\n",
       "      <th>Efficiency (MT/KWH)</th>\n",
       "      <th>Number of capacitors removed</th>\n",
       "      <th>Refractory lining before heating</th>\n",
       "      <th>Refractory lining after heating</th>\n",
       "      <th>Inverse Efficiency (KWH/MT)</th>\n",
       "    </tr>\n",
       "  </thead>\n",
       "  <tbody>\n",
       "    <tr>\n",
       "      <th>318</th>\n",
       "      <td>8</td>\n",
       "      <td>2</td>\n",
       "      <td>105</td>\n",
       "      <td>110</td>\n",
       "      <td>7</td>\n",
       "      <td>21.65122</td>\n",
       "      <td>0</td>\n",
       "      <td>0.412</td>\n",
       "      <td>31.830976</td>\n",
       "      <td>29.06322</td>\n",
       "      <td>...</td>\n",
       "      <td>3743</td>\n",
       "      <td>3747</td>\n",
       "      <td>256</td>\n",
       "      <td>3747</td>\n",
       "      <td>13.650545</td>\n",
       "      <td>0.001594</td>\n",
       "      <td>0.0</td>\n",
       "      <td>6.703552</td>\n",
       "      <td>6.657104</td>\n",
       "      <td>627.430115</td>\n",
       "    </tr>\n",
       "  </tbody>\n",
       "</table>\n",
       "<p>1 rows × 28 columns</p>\n",
       "</div>"
      ],
      "text/plain": [
       "     campaign  Heat number (life number)  Total Heat Time previous (minutes)  \\\n",
       "318         8                          2                                 105   \n",
       "\n",
       "     Total Heat Time (minutes)  Scrap (MT)  Sponge (MT)  Hot Heel (MT)  \\\n",
       "318                        110           7     21.65122              0   \n",
       "\n",
       "     Alloys (MT)  Previous Input (MT)  Input (MT)  ...  \\\n",
       "318        0.412            31.830976    29.06322  ...   \n",
       "\n",
       "     Previous Rating of the Furnace  Voltage  Frequency  \\\n",
       "318                            3743     3747        256   \n",
       "\n",
       "     Rating of the furnace (KW)  Melt rate (MT/Hr)  Efficiency (MT/KWH)  \\\n",
       "318                        3747          13.650545             0.001594   \n",
       "\n",
       "     Number of capacitors removed  Refractory lining before heating  \\\n",
       "318                           0.0                          6.703552   \n",
       "\n",
       "     Refractory lining after heating  Inverse Efficiency (KWH/MT)  \n",
       "318                         6.657104                   627.430115  \n",
       "\n",
       "[1 rows x 28 columns]"
      ]
     },
     "execution_count": 4,
     "metadata": {},
     "output_type": "execute_result"
    }
   ],
   "source": [
    "df1_init"
   ]
  },
  {
   "cell_type": "code",
   "execution_count": 5,
   "metadata": {},
   "outputs": [],
   "source": [
    "input_columns = ['Scrap (MT)', 'Sponge (MT)', 'Hot Heel (MT)', 'Alloys (MT)','Previous Voltage','Previous Frequency','Refractory lining before heating','Number of capacitors removed','Tapping Temperature (C)']\n",
    "output_columns = ['Voltage','Frequency','Refractory lining after heating']\n",
    "X = df1[input_columns].values\n",
    "y = df1[output_columns].values\n",
    "Store_Result = {}\n",
    "k = 0\n",
    "for i in range(df1.shape[0]):\n",
    "    if(i==0):\n",
    "        X_s = scaler_input.transform(X[i,:].reshape(1,len(X[i,:])))\n",
    "        y_s = scaler_output.transform(y)\n",
    "        y_p = model.predict(X_s)\n",
    "        y_pred = scaler_output.inverse_transform(y_p)\n",
    "        dic = {}\n",
    "        dic['Pred Voltage'] = y_pred[0][0]\n",
    "        dic['Pred Frequency'] = y_pred[0][1]\n",
    "        dic['Pred Refractory'] = y_pred[0][2]\n",
    "        dic['Actual Voltage'] = y[i,0]\n",
    "        dic['Actual Frequency'] = y[i,1]\n",
    "        dic['Actual Refractory'] = y[i,2]\n",
    "        Store_Result[k] = dic\n",
    "        k = k+1\n",
    "    else:\n",
    "        X[i,4] = Store_Result[k-1]['Pred Voltage']\n",
    "        X[i,5] = Store_Result[k-1]['Pred Frequency']\n",
    "        X[i,6] = Store_Result[k-1]['Pred Refractory']\n",
    "\n",
    "        X_s = scaler_input.transform(X[i,:].reshape(1,len(X[i,:])))\n",
    "        y_s = scaler_output.transform(y)\n",
    "        \n",
    "        y_p = model.predict(X_s)\n",
    "        y_pred = scaler_output.inverse_transform(y_p)\n",
    "        dic = {}\n",
    "        dic['Pred Voltage'] = y_pred[0][0]\n",
    "        dic['Pred Frequency'] = y_pred[0][1]\n",
    "        dic['Pred Refractory'] = y_pred[0][2]\n",
    "        dic['Actual Voltage'] = y[i,0]\n",
    "        dic['Actual Frequency'] = y[i,1]\n",
    "        dic['Actual Refractory'] = y[i,2]\n",
    "        \n",
    "        Store_Result[k] = dic\n",
    "        k = k+1\n",
    "\n",
    "        \n"
   ]
  },
  {
   "cell_type": "code",
   "execution_count": 6,
   "metadata": {},
   "outputs": [
    {
     "data": {
      "text/plain": [
       "array([[3.30477342e+03, 3.51053679e+02, 3.24654834e+00]])"
      ]
     },
     "execution_count": 6,
     "metadata": {},
     "output_type": "execute_result"
    }
   ],
   "source": [
    "y_pred"
   ]
  },
  {
   "cell_type": "code",
   "execution_count": 7,
   "metadata": {},
   "outputs": [],
   "source": [
    "Pred = np.zeros((df1.shape[0],3))\n",
    "Act = np.zeros((df1.shape[0],3))\n",
    "\n",
    "for i in range(df1.shape[0]):\n",
    "    Pred[i,0] = Store_Result[i]['Pred Voltage']\n",
    "    Pred[i,1] = Store_Result[i]['Pred Frequency']\n",
    "    Pred[i,2] = Store_Result[i]['Pred Refractory']\n",
    "    \n",
    "    Act[i,0] = Store_Result[i]['Actual Voltage']\n",
    "    Act[i,1] = Store_Result[i]['Actual Frequency']\n",
    "    Act[i,2] = Store_Result[i]['Actual Refractory']\n",
    "    \n",
    "\n",
    "    "
   ]
  },
  {
   "cell_type": "code",
   "execution_count": 8,
   "metadata": {},
   "outputs": [
    {
     "data": {
      "text/plain": [
       "array([[3.77494397e+03, 2.58856644e+02, 6.64414906e+00],\n",
       "       [3.79520416e+03, 2.60446459e+02, 6.58328352e+00],\n",
       "       [3.79970380e+03, 2.61369200e+02, 6.52310126e+00],\n",
       "       [3.80416234e+03, 2.61390569e+02, 6.46267675e+00],\n",
       "       [3.79338336e+03, 2.62531463e+02, 6.40422358e+00],\n",
       "       [3.78739588e+03, 2.63397478e+02, 6.34363072e+00],\n",
       "       [3.77401608e+03, 2.64355527e+02, 6.28362428e+00],\n",
       "       [3.76735983e+03, 2.64472601e+02, 6.22316042e+00],\n",
       "       [3.75914907e+03, 2.64697862e+02, 6.16308468e+00],\n",
       "       [3.76240740e+03, 2.61688800e+02, 6.10517536e+00],\n",
       "       [3.75084139e+03, 2.63204915e+02, 6.04797200e+00],\n",
       "       [3.74649265e+03, 2.62499614e+02, 5.99127469e+00],\n",
       "       [3.73983914e+03, 2.62477556e+02, 5.93528678e+00],\n",
       "       [3.72627408e+03, 2.64032571e+02, 5.87897141e+00],\n",
       "       [3.70383490e+03, 2.67665249e+02, 5.82137494e+00],\n",
       "       [3.68279360e+03, 2.69138256e+02, 5.76248346e+00],\n",
       "       [3.66722700e+03, 2.68795113e+02, 5.70393964e+00],\n",
       "       [3.66159051e+03, 2.65129530e+02, 5.64882964e+00],\n",
       "       [3.64431544e+03, 2.68448335e+02, 5.59309569e+00],\n",
       "       [3.62024901e+03, 2.72288729e+02, 5.53465292e+00],\n",
       "       [3.60458682e+03, 2.71514300e+02, 5.47652639e+00],\n",
       "       [3.59001768e+03, 2.71603873e+02, 5.41892280e+00],\n",
       "       [3.56828118e+03, 2.73600597e+02, 5.36125368e+00],\n",
       "       [3.56256406e+03, 2.71562554e+02, 5.30379172e+00],\n",
       "       [3.54725480e+03, 2.73711063e+02, 5.24605873e+00],\n",
       "       [3.54343057e+03, 2.71074104e+02, 5.19022441e+00],\n",
       "       [3.52532608e+03, 2.74184259e+02, 5.13338734e+00],\n",
       "       [3.50219229e+03, 2.75957413e+02, 5.07581529e+00],\n",
       "       [3.47641508e+03, 2.78412693e+02, 5.01772906e+00],\n",
       "       [3.44932161e+03, 2.80917788e+02, 4.95785126e+00],\n",
       "       [3.44868997e+03, 2.76485201e+02, 4.89937383e+00],\n",
       "       [3.43786477e+03, 2.77965840e+02, 4.84205562e+00],\n",
       "       [3.43446218e+03, 2.76994091e+02, 4.78479834e+00],\n",
       "       [3.42765423e+03, 2.78006542e+02, 4.72765912e+00],\n",
       "       [3.41627604e+03, 2.78779482e+02, 4.67059525e+00],\n",
       "       [3.40133204e+03, 2.79543659e+02, 4.61323668e+00],\n",
       "       [3.39847469e+03, 2.78152708e+02, 4.55627151e+00],\n",
       "       [3.39569050e+03, 2.76897939e+02, 4.50113587e+00],\n",
       "       [3.37014876e+03, 2.82240920e+02, 4.44464852e+00],\n",
       "       [3.34116848e+03, 2.85684187e+02, 4.38563591e+00],\n",
       "       [3.32252061e+03, 2.84912487e+02, 4.32668569e+00],\n",
       "       [3.29374238e+03, 2.86902081e+02, 4.26843270e+00],\n",
       "       [3.29047711e+03, 2.82870580e+02, 4.21077076e+00],\n",
       "       [3.29271749e+03, 2.80892132e+02, 4.15600543e+00],\n",
       "       [3.31909323e+03, 2.94122331e+02, 4.10546753e+00],\n",
       "       [3.33137537e+03, 2.96167944e+02, 4.05209603e+00],\n",
       "       [3.33448734e+03, 3.09251668e+02, 3.99708623e+00],\n",
       "       [3.31108188e+03, 3.04619541e+02, 3.93841200e+00],\n",
       "       [3.31067325e+03, 3.00797965e+02, 3.88218450e+00],\n",
       "       [3.32060478e+03, 3.19919033e+02, 3.82672128e+00],\n",
       "       [3.31130138e+03, 3.23599472e+02, 3.76732729e+00],\n",
       "       [3.29580592e+03, 3.25416661e+02, 3.70704460e+00],\n",
       "       [3.28030266e+03, 3.15025754e+02, 3.64745040e+00],\n",
       "       [3.28228252e+03, 3.11162869e+02, 3.59168382e+00],\n",
       "       [3.32485552e+03, 3.31531452e+02, 3.54208501e+00],\n",
       "       [3.32829200e+03, 3.49767378e+02, 3.48580415e+00],\n",
       "       [3.33828278e+03, 3.60027046e+02, 3.42688612e+00],\n",
       "       [3.30387629e+03, 3.49157243e+02, 3.36252913e+00],\n",
       "       [3.30509087e+03, 3.50660140e+02, 3.30471718e+00],\n",
       "       [3.30477342e+03, 3.51053679e+02, 3.24654834e+00]])"
      ]
     },
     "execution_count": 8,
     "metadata": {},
     "output_type": "execute_result"
    }
   ],
   "source": [
    "Pred"
   ]
  },
  {
   "cell_type": "code",
   "execution_count": 9,
   "metadata": {},
   "outputs": [
    {
     "data": {
      "image/png": "[encoded data removed]",
      "text/plain": [
       "<Figure size 432x288 with 1 Axes>"
      ]
     },
     "metadata": {
      "needs_background": "light"
     },
     "output_type": "display_data"
    },
    {
     "data": {
      "image/png": "[encoded data removed]",
      "text/plain": [
       "<Figure size 432x288 with 1 Axes>"
      ]
     },
     "metadata": {
      "needs_background": "light"
     },
     "output_type": "display_data"
    },
    {
     "data": {
      "image/png": "[encoded data removed]",
      "text/plain": [
       "<Figure size 432x288 with 1 Axes>"
      ]
     },
     "metadata": {
      "needs_background": "light"
     },
     "output_type": "display_data"
    }
   ],
   "source": [
    "end = df1.shape[0]+2 # for campaign 9\n",
    "# end = 62 # for campaign 8\n",
    "plt.plot(range(2,end),Act[:,0],c='g');\n",
    "plt.plot(range(2,end),Pred[:,0],c='b');\n",
    "plt.xlabel('Heat number')\n",
    "plt.ylabel('Voltage')\n",
    "plt.title('Campaign 9')\n",
    "plt.legend(['Actual Voltage','Predicted Voltage'])\n",
    "plt.show()\n",
    "plt.plot(range(2,end),Act[:,1],c='g');\n",
    "plt.plot(range(2,end),Pred[:,1],c='b');\n",
    "plt.xlabel('Heat number')\n",
    "plt.ylabel('Frequency')\n",
    "plt.legend(['Actual Frequency','Predicted Frequency'])\n",
    "plt.title('Campaign 9')\n",
    "plt.show()\n",
    "plt.plot(range(2,end),Act[:,2],c='g');\n",
    "plt.plot(range(2,end),Pred[:,2],c='b');\n",
    "plt.xlabel('Heat number')\n",
    "plt.ylabel('Refractory lining')\n",
    "plt.legend(['Actual Refractory thickness','Predicted Refractory thickness'])\n",
    "plt.title('Campaign 9')\n",
    "plt.show()"
   ]
  },
  {
   "cell_type": "code",
   "execution_count": 10,
   "metadata": {},
   "outputs": [
    {
     "name": "stdout",
     "output_type": "stream",
     "text": [
      "Voltage\n",
      "MSE score is 12649.215355097018\n",
      "R2 score is 0.6535781087042007\n",
      "NMSE score is 34.642189129579926\n",
      "Frequency\n",
      "MSE score is 70.92447198217526\n",
      "R2 score is 0.8884138907730974\n",
      "NMSE score is 11.158610922690263\n",
      "Refractory lining after heating\n",
      "MSE score is 0.15899599896924124\n",
      "R2 score is 0.7542746143023995\n",
      "NMSE score is 24.572538569760045\n"
     ]
    }
   ],
   "source": [
    "for i in range(3):\n",
    "    print(output_columns[i])\n",
    "    print(\"MSE score is {}\".format(mean_squared_error(Act[:,i], Pred[:,i])))\n",
    "    print(\"R2 score is {}\".format(r2_score(Act[:,i], Pred[:,i])))\n",
    "    print(\"NMSE score is {}\".format(np.sum(np.square(Act[:,i]- Pred[:,i]))/np.sum(np.square(Act[:,i]-np.mean(Act[:,i])))*100))\n"
   ]
  },
  {
   "cell_type": "code",
   "execution_count": 11,
   "metadata": {},
   "outputs": [
    {
     "data": {
      "text/plain": [
       "array([[3.77494397e+03, 2.58856644e+02, 6.64414906e+00],\n",
       "       [3.79520416e+03, 2.60446459e+02, 6.58328352e+00],\n",
       "       [3.79970380e+03, 2.61369200e+02, 6.52310126e+00],\n",
       "       [3.80416234e+03, 2.61390569e+02, 6.46267675e+00],\n",
       "       [3.79338336e+03, 2.62531463e+02, 6.40422358e+00],\n",
       "       [3.78739588e+03, 2.63397478e+02, 6.34363072e+00],\n",
       "       [3.77401608e+03, 2.64355527e+02, 6.28362428e+00],\n",
       "       [3.76735983e+03, 2.64472601e+02, 6.22316042e+00],\n",
       "       [3.75914907e+03, 2.64697862e+02, 6.16308468e+00],\n",
       "       [3.76240740e+03, 2.61688800e+02, 6.10517536e+00],\n",
       "       [3.75084139e+03, 2.63204915e+02, 6.04797200e+00],\n",
       "       [3.74649265e+03, 2.62499614e+02, 5.99127469e+00],\n",
       "       [3.73983914e+03, 2.62477556e+02, 5.93528678e+00],\n",
       "       [3.72627408e+03, 2.64032571e+02, 5.87897141e+00],\n",
       "       [3.70383490e+03, 2.67665249e+02, 5.82137494e+00],\n",
       "       [3.68279360e+03, 2.69138256e+02, 5.76248346e+00],\n",
       "       [3.66722700e+03, 2.68795113e+02, 5.70393964e+00],\n",
       "       [3.66159051e+03, 2.65129530e+02, 5.64882964e+00],\n",
       "       [3.64431544e+03, 2.68448335e+02, 5.59309569e+00],\n",
       "       [3.62024901e+03, 2.72288729e+02, 5.53465292e+00],\n",
       "       [3.60458682e+03, 2.71514300e+02, 5.47652639e+00],\n",
       "       [3.59001768e+03, 2.71603873e+02, 5.41892280e+00],\n",
       "       [3.56828118e+03, 2.73600597e+02, 5.36125368e+00],\n",
       "       [3.56256406e+03, 2.71562554e+02, 5.30379172e+00],\n",
       "       [3.54725480e+03, 2.73711063e+02, 5.24605873e+00],\n",
       "       [3.54343057e+03, 2.71074104e+02, 5.19022441e+00],\n",
       "       [3.52532608e+03, 2.74184259e+02, 5.13338734e+00],\n",
       "       [3.50219229e+03, 2.75957413e+02, 5.07581529e+00],\n",
       "       [3.47641508e+03, 2.78412693e+02, 5.01772906e+00],\n",
       "       [3.44932161e+03, 2.80917788e+02, 4.95785126e+00],\n",
       "       [3.44868997e+03, 2.76485201e+02, 4.89937383e+00],\n",
       "       [3.43786477e+03, 2.77965840e+02, 4.84205562e+00],\n",
       "       [3.43446218e+03, 2.76994091e+02, 4.78479834e+00],\n",
       "       [3.42765423e+03, 2.78006542e+02, 4.72765912e+00],\n",
       "       [3.41627604e+03, 2.78779482e+02, 4.67059525e+00],\n",
       "       [3.40133204e+03, 2.79543659e+02, 4.61323668e+00],\n",
       "       [3.39847469e+03, 2.78152708e+02, 4.55627151e+00],\n",
       "       [3.39569050e+03, 2.76897939e+02, 4.50113587e+00],\n",
       "       [3.37014876e+03, 2.82240920e+02, 4.44464852e+00],\n",
       "       [3.34116848e+03, 2.85684187e+02, 4.38563591e+00],\n",
       "       [3.32252061e+03, 2.84912487e+02, 4.32668569e+00],\n",
       "       [3.29374238e+03, 2.86902081e+02, 4.26843270e+00],\n",
       "       [3.29047711e+03, 2.82870580e+02, 4.21077076e+00],\n",
       "       [3.29271749e+03, 2.80892132e+02, 4.15600543e+00],\n",
       "       [3.31909323e+03, 2.94122331e+02, 4.10546753e+00],\n",
       "       [3.33137537e+03, 2.96167944e+02, 4.05209603e+00],\n",
       "       [3.33448734e+03, 3.09251668e+02, 3.99708623e+00],\n",
       "       [3.31108188e+03, 3.04619541e+02, 3.93841200e+00],\n",
       "       [3.31067325e+03, 3.00797965e+02, 3.88218450e+00],\n",
       "       [3.32060478e+03, 3.19919033e+02, 3.82672128e+00],\n",
       "       [3.31130138e+03, 3.23599472e+02, 3.76732729e+00],\n",
       "       [3.29580592e+03, 3.25416661e+02, 3.70704460e+00],\n",
       "       [3.28030266e+03, 3.15025754e+02, 3.64745040e+00],\n",
       "       [3.28228252e+03, 3.11162869e+02, 3.59168382e+00],\n",
       "       [3.32485552e+03, 3.31531452e+02, 3.54208501e+00],\n",
       "       [3.32829200e+03, 3.49767378e+02, 3.48580415e+00],\n",
       "       [3.33828278e+03, 3.60027046e+02, 3.42688612e+00],\n",
       "       [3.30387629e+03, 3.49157243e+02, 3.36252913e+00],\n",
       "       [3.30509087e+03, 3.50660140e+02, 3.30471718e+00],\n",
       "       [3.30477342e+03, 3.51053679e+02, 3.24654834e+00]])"
      ]
     },
     "execution_count": 11,
     "metadata": {},
     "output_type": "execute_result"
    }
   ],
   "source": [
    "Pred"
   ]
  },
  {
   "cell_type": "code",
   "execution_count": null,
   "metadata": {},
   "outputs": [],
   "source": []
  }
 ],
 "metadata": {
  "kernelspec": {
   "display_name": "Python 3",
   "language": "python",
   "name": "python3"
  },
  "language_info": {
   "codemirror_mode": {
    "name": "ipython",
    "version": 3
   },
   "file_extension": ".py",
   "mimetype": "text/x-python",
   "name": "python",
   "nbconvert_exporter": "python",
   "pygments_lexer": "ipython3",
   "version": "3.7.4"
  }
 },
 "nbformat": 4,
 "nbformat_minor": 4
}
