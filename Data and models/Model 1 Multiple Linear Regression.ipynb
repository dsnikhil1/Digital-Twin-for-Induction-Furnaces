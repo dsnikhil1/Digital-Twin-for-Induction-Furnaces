{
 "cells": [
  {
   "cell_type": "code",
   "execution_count": 21,
   "metadata": {},
   "outputs": [],
   "source": [
    "import numpy as np\n",
    "import pandas as pd\n",
    "import matplotlib.pyplot as plt\n",
    "from sklearn.linear_model import LinearRegression\n",
    "from sklearn.metrics import mean_squared_error\n",
    "from sklearn.metrics import r2_score"
   ]
  },
  {
   "cell_type": "code",
   "execution_count": 22,
   "metadata": {},
   "outputs": [],
   "source": [
    "df = pd.read_csv('Amreli NRM data for model building.csv')"
   ]
  },
  {
   "cell_type": "code",
   "execution_count": 23,
   "metadata": {},
   "outputs": [],
   "source": [
    "#Creating new df for modeling by removing the first heat of each campaign\n",
    "\n",
    "campaign = np.unique(df['campaign'])\n",
    "\n",
    "for c in campaign:\n",
    "    dfc = df[df['campaign']==c]\n",
    "    i = dfc.index[0]\n",
    "    df = df.drop(i)"
   ]
  },
  {
   "cell_type": "code",
   "execution_count": 24,
   "metadata": {},
   "outputs": [],
   "source": [
    "df = df.reset_index(drop=True)\n",
    "df['Number of capacitors removed'].fillna(0, inplace=True)"
   ]
  },
  {
   "cell_type": "code",
   "execution_count": 25,
   "metadata": {},
   "outputs": [],
   "source": [
    "input_columns = ['Previous Voltage', 'Previous Frequency',\n",
    "       'Refractory lining before heating', 'Number of capacitors removed']\n",
    "\n",
    "output_columns = ['Voltage']"
   ]
  },
  {
   "cell_type": "code",
   "execution_count": 26,
   "metadata": {},
   "outputs": [],
   "source": [
    "X = df[input_columns]\n",
    "X_train = X.iloc[:318,:].values\n",
    "X_test = X.iloc[318:,:].values\n",
    "y = df[output_columns]\n",
    "y_train = y.iloc[:318,:].values\n",
    "y_test = y.iloc[318:,:].values"
   ]
  },
  {
   "cell_type": "code",
   "execution_count": 27,
   "metadata": {},
   "outputs": [
    {
     "name": "stdout",
     "output_type": "stream",
     "text": [
      "Train score is 5795.678355602583\n",
      "Test score is 5643.292708631152\n",
      "Train NMSE score is 21.16276965096353\n",
      "Test NMSE score is 16.61080615688094\n",
      "R-squared is 0.8338919384311906\n"
     ]
    }
   ],
   "source": [
    "lr = LinearRegression()\n",
    "lr.fit(X_train, y_train)\n",
    "y_pred_train = lr.predict(X_train)\n",
    "y_pred_test = lr.predict(X_test)\n",
    "print(\"Train score is {}\".format(mean_squared_error(y_train, y_pred_train)))\n",
    "print(\"Test score is {}\".format(mean_squared_error(y_test, y_pred_test)))\n",
    "print(\"Train NMSE score is {}\".format(np.sum(np.square(y_pred_train-y_train))/np.sum(np.square(y_train-np.mean(y_train)))*100))\n",
    "print(\"Test NMSE score is {}\".format(np.sum(np.square(y_pred_test-y_test))/np.sum(np.square(y_test-np.mean(y_test)))*100))\n",
    "print('R-squared is {}'.format(r2_score(y_test, y_pred_test)))"
   ]
  },
  {
   "cell_type": "code",
   "execution_count": 10,
   "metadata": {},
   "outputs": [
    {
     "data": {
      "text/plain": [
       "[<matplotlib.lines.Line2D at 0x224e49d0948>]"
      ]
     },
     "execution_count": 10,
     "metadata": {},
     "output_type": "execute_result"
    },
    {
     "data": {
      "image/png": "[encoded data removed]",
      "text/plain": [
       "<Figure size 432x288 with 1 Axes>"
      ]
     },
     "metadata": {
      "needs_background": "light"
     },
     "output_type": "display_data"
    }
   ],
   "source": [
    "plt.plot(y_train,y_pred_train,'ro')"
   ]
  },
  {
   "cell_type": "markdown",
   "metadata": {},
   "source": [
    "# Building Model 1 "
   ]
  },
  {
   "cell_type": "code",
   "execution_count": 12,
   "metadata": {},
   "outputs": [],
   "source": [
    "input_columns = ['Scrap (MT)', 'Sponge (MT)', 'Hot Heel (MT)', 'Alloys (MT)','Previous Voltage', \n",
    "                 'Previous Frequency','Previous Rating of the Furnace', 'Refractory lining before heating',\n",
    "                'Number of capacitors removed','Tapping Temperature (C)']\n",
    "output_columns = ['Efficiency (MT/KWH)','Total Heat Time (minutes)','Voltage','Frequency']"
   ]
  },
  {
   "cell_type": "code",
   "execution_count": 54,
   "metadata": {},
   "outputs": [],
   "source": [
    "X = df[input_columns]\n",
    "X_train = X.iloc[:318,:].values\n",
    "X_test = X.iloc[318:,:].values\n",
    "y = df[output_columns]\n",
    "y_train = y.iloc[:318,:].values\n",
    "y_test = y.iloc[318:,:].values"
   ]
  },
  {
   "cell_type": "markdown",
   "metadata": {},
   "source": [
    "from sklearn.preprocessing import StandardScaler\n",
    "scaler1 = StandardScaler()\n",
    "normalized_X_train = scaler.fit_transform(X_train)\n",
    "normalized_X_test = scaler.transform(X_test)\n",
    "\n",
    "lr = LinearRegression()\n",
    "lr.fit(normalized_X_train, y_train)\n",
    "y_pred_train = lr.predict(normalized_X_train)\n",
    "y_pred_test = lr.predict(normalized_X_test)\n",
    "\n",
    "print(\"Mean Squared error on train data is {}\".format(mean_squared_error(y_train, y_pred_train)))\n",
    "print(\"Mean Squared error on test data is {}\".format(mean_squared_error(y_test, y_pred_test)))\n",
    "\n",
    "print(\"R2 score is {}\".format(r2_score(y_test, y_pred_test)))"
   ]
  },
  {
   "cell_type": "code",
   "execution_count": 24,
   "metadata": {},
   "outputs": [
    {
     "data": {
      "text/plain": [
       "['Scrap (MT)',\n",
       " 'Sponge (MT)',\n",
       " 'Hot Heel (MT)',\n",
       " 'Alloys (MT)',\n",
       " 'Previous Voltage',\n",
       " 'Previous Frequency',\n",
       " 'Previous Rating of the Furnace',\n",
       " 'Refractory lining before heating',\n",
       " 'Number of capacitors removed',\n",
       " 'Tapping Temperature (C)',\n",
       " 'Efficiency (MT/KWH)',\n",
       " 'Total Heat Time (minutes)',\n",
       " 'Voltage',\n",
       " 'Frequency']"
      ]
     },
     "execution_count": 24,
     "metadata": {},
     "output_type": "execute_result"
    }
   ],
   "source": []
  },
  {
   "cell_type": "code",
   "execution_count": 48,
   "metadata": {},
   "outputs": [],
   "source": [
    "from sklearn.preprocessing import MinMaxScaler\n",
    "from sklearn import preprocessing\n",
    "scaler = preprocessing.MinMaxScaler()\n",
    "cols = input_columns+output_columns\n",
    "all_data = df[cols]\n",
    "all_data_train = all_data.iloc[:318,:].values\n",
    "all_data_test = all_data.iloc[318:,:].values\n",
    "scaler = preprocessing.MinMaxScaler()\n",
    "all_data_train_normalized = scaler.fit_transform(all_data_train)\n",
    "all_data_test_normalized = scaler.transform(all_data_test)"
   ]
  },
  {
   "cell_type": "code",
   "execution_count": 51,
   "metadata": {},
   "outputs": [],
   "source": [
    "normalized_X_train = []\n",
    "for i in range(318):\n",
    "    normalized_X_train.append(all_data_train_normalized[i][:10])\n",
    "normalized_X_train = np.array(normalized_X_train)\n",
    "normalized_X_train = normalized_X_train.reshape(318,10)\n",
    "\n",
    "normalized_X_test = []\n",
    "for i in range(np.shape(all_data_test_normalized)[0]):\n",
    "    normalized_X_test.append(all_data_test_normalized[i][:10])\n",
    "normalized_X_test = np.array(normalized_X_test)\n",
    "normalized_X_test = normalized_X_test.reshape(np.shape(all_data_test_normalized)[0],10)\n",
    "\n",
    "normalized_y_train = []\n",
    "for i in range(318):\n",
    "    normalized_y_train.append(all_data_train_normalized[i][10:])\n",
    "normalized_y_train = np.array(normalized_y_train)\n",
    "normalized_y_train = normalized_y_train.reshape(318,4)\n",
    "\n",
    "normailized_y_test = []\n",
    "for i in range(np.shape(all_data_test_normalized)[0]):\n",
    "    normailized_y_test.append(all_data_test_normalized[i][10:])\n",
    "normailized_y_test = np.array(normailized_y_test)\n",
    "normailized_y_test = normailized_y_test.reshape(122,4)"
   ]
  },
  {
   "cell_type": "code",
   "execution_count": 75,
   "metadata": {},
   "outputs": [],
   "source": [
    "lr = LinearRegression()\n",
    "lr.fit(normalized_X_train, normalized_y_train)\n",
    "y_pred_train = lr.predict(normalized_X_train)\n",
    "y_pred_test = lr.predict(normalized_X_test)"
   ]
  },
  {
   "cell_type": "code",
   "execution_count": 76,
   "metadata": {},
   "outputs": [],
   "source": [
    "train_data_and_predicted = []\n",
    "for i in range(318):\n",
    "    train_data_and_predicted.append(list(normalized_X_train[i])+list(y_pred_train[i]))\n",
    "train_data_and_predicted = np.array(train_data_and_predicted)\n",
    "train_data_and_predicted_inverse = scaler.inverse_transform(train_data_and_predicted)\n",
    "\n",
    "pred_train = []\n",
    "for i in range(318):\n",
    "    pred_train.append(train_data_and_predicted_inverse[i][10:])\n",
    "pred_train = np.array(pred_train)\n",
    "pred_train = pred_train.reshape(318,4)\n",
    "\n",
    "\n",
    "test_data_and_predicted = []\n",
    "for i in range(122):\n",
    "    test_data_and_predicted.append(list(normalized_X_test[i])+list(y_pred_test[i]))\n",
    "test_data_and_predicted = np.array(test_data_and_predicted)\n",
    "test_data_and_predicted_inverse = scaler.inverse_transform(test_data_and_predicted)\n",
    "\n",
    "\n",
    "pred_test = []\n",
    "for i in range(122):\n",
    "    pred_test.append(test_data_and_predicted_inverse[i][10:])\n",
    "pred_test = np.array(pred_test)\n",
    "pred_test = pred_test.reshape(122,4)"
   ]
  },
  {
   "cell_type": "code",
   "execution_count": 77,
   "metadata": {},
   "outputs": [
    {
     "data": {
      "text/plain": [
       "0.3790666273646529"
      ]
     },
     "execution_count": 77,
     "metadata": {},
     "output_type": "execute_result"
    }
   ],
   "source": [
    "r2_score(y_test, pred_test)"
   ]
  },
  {
   "cell_type": "code",
   "execution_count": 17,
   "metadata": {},
   "outputs": [
    {
     "data": {
      "text/plain": [
       "'name'"
      ]
     },
     "execution_count": 17,
     "metadata": {},
     "output_type": "execute_result"
    }
   ],
   "source": [
    "df['col'][0]"
   ]
  },
  {
   "cell_type": "code",
   "execution_count": null,
   "metadata": {},
   "outputs": [],
   "source": []
  }
 ],
 "metadata": {
  "kernelspec": {
   "display_name": "Python 3",
   "language": "python",
   "name": "python3"
  },
  "language_info": {
   "codemirror_mode": {
    "name": "ipython",
    "version": 3
   },
   "file_extension": ".py",
   "mimetype": "text/x-python",
   "name": "python",
   "nbconvert_exporter": "python",
   "pygments_lexer": "ipython3",
   "version": "3.7.4"
  }
 },
 "nbformat": 4,
 "nbformat_minor": 2
}
