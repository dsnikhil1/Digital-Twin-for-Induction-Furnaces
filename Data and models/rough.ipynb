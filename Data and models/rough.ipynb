{
 "cells": [
  {
   "cell_type": "code",
   "execution_count": 1,
   "metadata": {},
   "outputs": [],
   "source": [
    "import numpy as np"
   ]
  },
  {
   "cell_type": "code",
   "execution_count": 8,
   "metadata": {},
   "outputs": [],
   "source": [
    "l = list(str1)"
   ]
  },
  {
   "cell_type": "code",
   "execution_count": 11,
   "metadata": {},
   "outputs": [],
   "source": [
    "for i in range(len(l)):\n",
    "    l[i] = int(l[i])"
   ]
  },
  {
   "cell_type": "code",
   "execution_count": 12,
   "metadata": {},
   "outputs": [
    {
     "data": {
      "text/plain": [
       "[0, 2, 3, 4]"
      ]
     },
     "execution_count": 12,
     "metadata": {},
     "output_type": "execute_result"
    }
   ],
   "source": [
    "l"
   ]
  },
  {
   "cell_type": "code",
   "execution_count": 13,
   "metadata": {},
   "outputs": [
    {
     "data": {
      "text/plain": [
       "234"
      ]
     },
     "execution_count": 13,
     "metadata": {},
     "output_type": "execute_result"
    }
   ],
   "source": [
    "int(str1)"
   ]
  },
  {
   "cell_type": "code",
   "execution_count": 14,
   "metadata": {},
   "outputs": [
    {
     "data": {
      "text/plain": [
       "'234'"
      ]
     },
     "execution_count": 14,
     "metadata": {},
     "output_type": "execute_result"
    }
   ],
   "source": [
    "a = 234\n",
    "str(a)"
   ]
  },
  {
   "cell_type": "code",
   "execution_count": 24,
   "metadata": {},
   "outputs": [],
   "source": [
    "def plusOne(A):\n",
    "    val = 1\n",
    "    for i in range(len(A),0,-1):\n",
    "        val = val+A[i-1]\n",
    "        borrow = int(val/10)\n",
    "        if borrow == 0:\n",
    "            A[i-1] = val\n",
    "            break\n",
    "        else:\n",
    "            A[i-1] = val%10\n",
    "            val = borrow\n",
    "    A = [borrow] + A\n",
    "    while A[0] == 0:\n",
    "        del A[0]\n",
    "    return A"
   ]
  },
  {
   "cell_type": "code",
   "execution_count": 25,
   "metadata": {},
   "outputs": [
    {
     "data": {
      "text/plain": [
       "[1]"
      ]
     },
     "execution_count": 25,
     "metadata": {},
     "output_type": "execute_result"
    }
   ],
   "source": [
    "plusOne([0])"
   ]
  },
  {
   "cell_type": "code",
   "execution_count": 20,
   "metadata": {},
   "outputs": [
    {
     "data": {
      "text/plain": [
       "0"
      ]
     },
     "execution_count": 20,
     "metadata": {},
     "output_type": "execute_result"
    }
   ],
   "source": [
    "int(9/10)"
   ]
  },
  {
   "cell_type": "code",
   "execution_count": 21,
   "metadata": {},
   "outputs": [
    {
     "name": "stdout",
     "output_type": "stream",
     "text": [
      "5\n",
      "4\n",
      "3\n",
      "2\n",
      "1\n"
     ]
    }
   ],
   "source": [
    "for i in range(5,0,-1):\n",
    "    print(i)"
   ]
  },
  {
   "cell_type": "code",
   "execution_count": 28,
   "metadata": {},
   "outputs": [],
   "source": [
    "def maxsub(A):\n",
    "    cursum = maxsum = A[0]\n",
    "    for i in range(1, len(A)):\n",
    "        cursum = max(A[i],(A[i]+cursum))\n",
    "        if cursum > maxsum:\n",
    "            maxsum = cursum\n",
    "    return maxsum"
   ]
  },
  {
   "cell_type": "code",
   "execution_count": 29,
   "metadata": {},
   "outputs": [
    {
     "data": {
      "text/plain": [
       "-20"
      ]
     },
     "execution_count": 29,
     "metadata": {},
     "output_type": "execute_result"
    }
   ],
   "source": [
    "maxsub([-163,-20])"
   ]
  },
  {
   "cell_type": "code",
   "execution_count": 40,
   "metadata": {},
   "outputs": [],
   "source": [
    "def maxlist(A):\n",
    "    \n",
    "    maxsum = 0\n",
    "    cursum = 0\n",
    "    maxsumlist = []\n",
    "    cursumlist = []\n",
    "    \n",
    "    for i in range(len(A)):\n",
    "        if A[i] >= 0:\n",
    "            cursum+=A[i]\n",
    "            cursumlist.append(A[i])\n",
    "            if cursum > maxsum:\n",
    "                maxsum = cursum\n",
    "                maxsumlist = cursumlist\n",
    "            if cursum == maxsum:\n",
    "                if len(cursumlist) > len(maxsumlist):\n",
    "                    maxsumlist = cursumlist\n",
    "        else:\n",
    "            cursum = 0\n",
    "            cursumlist = []\n",
    "    return maxsumlist"
   ]
  },
  {
   "cell_type": "code",
   "execution_count": 42,
   "metadata": {},
   "outputs": [
    {
     "data": {
      "text/plain": [
       "[10, 0]"
      ]
     },
     "execution_count": 42,
     "metadata": {},
     "output_type": "execute_result"
    }
   ],
   "source": [
    "maxlist([10,0,-100])"
   ]
  },
  {
   "cell_type": "code",
   "execution_count": 45,
   "metadata": {},
   "outputs": [],
   "source": [
    "def maxsub2(A):\n",
    "    \n",
    "    maxsum = cursum = A[0]\n",
    "    for i in range(1,len(A)):\n",
    "        cursum = max(A[i], (cursum+A[i]))\n",
    "        if cursum > maxsum:\n",
    "            maxsum = cursum\n",
    "    return maxsum"
   ]
  },
  {
   "cell_type": "code",
   "execution_count": 46,
   "metadata": {},
   "outputs": [
    {
     "data": {
      "text/plain": [
       "7"
      ]
     },
     "execution_count": 46,
     "metadata": {},
     "output_type": "execute_result"
    }
   ],
   "source": [
    "maxsub2([-2,-3,4,-1,-2,1,5,-3])"
   ]
  },
  {
   "cell_type": "code",
   "execution_count": 47,
   "metadata": {},
   "outputs": [
    {
     "data": {
      "text/plain": [
       "2"
      ]
     },
     "execution_count": 47,
     "metadata": {},
     "output_type": "execute_result"
    }
   ],
   "source": [
    "abs(-2)"
   ]
  },
  {
   "cell_type": "code",
   "execution_count": 1,
   "metadata": {},
   "outputs": [],
   "source": [
    "import numpy as np"
   ]
  },
  {
   "cell_type": "code",
   "execution_count": 2,
   "metadata": {},
   "outputs": [
    {
     "data": {
      "text/plain": [
       "array([0., 0., 0., 0., 0.])"
      ]
     },
     "execution_count": 2,
     "metadata": {},
     "output_type": "execute_result"
    }
   ],
   "source": []
  },
  {
   "cell_type": "code",
   "execution_count": 9,
   "metadata": {},
   "outputs": [],
   "source": [
    "def binary_search(v,x):\n",
    "    \n",
    "    low = 0\n",
    "    high = len(v)-1\n",
    "    \n",
    "    while(low<=high):\n",
    "        mid = int((low+high)/2)\n",
    "        \n",
    "        if v[mid] <=x:\n",
    "            low = mid+1\n",
    "        elif v[mid]>x and v[mid-1]<=x:\n",
    "            return mid\n",
    "        elif v[mid]>x and mid==0:\n",
    "            return mid\n",
    "        else:\n",
    "            high = mid-1\n",
    "    return -1\n",
    "\n",
    "def part(A,B):\n",
    "    \n",
    "    count = 0\n",
    "    prefix = [0 for i in range(A)]\n",
    "    suffix = [0 for i in range(A)]\n",
    "    \n",
    "    prefix[0] = B[0]\n",
    "    for i in range(1,A):\n",
    "        prefix[i] = prefix[i-1]+B[i]\n",
    "        \n",
    "    total_sum = prefix[A-1]\n",
    "    if total_sum%3  != 0:\n",
    "        return 0\n",
    "    \n",
    "    suffix[A-1] = B[A-1]\n",
    "    i=A-2\n",
    "    while(i>=0):\n",
    "        suffix[i] = suffix[i+1]+B[i]\n",
    "        i-=1\n",
    "        \n",
    "    v = []\n",
    "    for i in range(A):\n",
    "        if suffix[i] == int(total_sum/3):\n",
    "            v.append(i)\n",
    "            \n",
    "    for i in range(A):\n",
    "        if prefix[i] == int(total_sum/3):\n",
    "            res = binary_search(v,i+1)\n",
    "            if (res!=-1):\n",
    "                count+=len(v)-res\n",
    "    return count"
   ]
  },
  {
   "cell_type": "code",
   "execution_count": 15,
   "metadata": {},
   "outputs": [
    {
     "data": {
      "text/plain": [
       "6"
      ]
     },
     "execution_count": 15,
     "metadata": {},
     "output_type": "execute_result"
    }
   ],
   "source": [
    "part(5, np.zeros(5))"
   ]
  },
  {
   "cell_type": "code",
   "execution_count": 19,
   "metadata": {},
   "outputs": [],
   "source": [
    "def partition(A, low, high):\n",
    "    \n",
    "    i = low\n",
    "    pivot = A[high]\n",
    "    \n",
    "    for j in range(low, high):\n",
    "        if A[j] <= pivot:\n",
    "            A[i], A[j] = A[j], A[i]\n",
    "            i+=1\n",
    "    A[i], A[high] = A[high], A[i]\n",
    "    return i\n",
    "\n",
    "def quick_sort(A, low, high):\n",
    "    if low<high:\n",
    "        pi = partition(A, low, high)\n",
    "        quick_sort(A, low, pi-1)\n",
    "        quick_sort(A, pi+1, high)"
   ]
  },
  {
   "cell_type": "code",
   "execution_count": 22,
   "metadata": {},
   "outputs": [
    {
     "name": "stdout",
     "output_type": "stream",
     "text": [
      "[82, 77, 20, 36, 50, 96, 71, 75, 64, 75]\n",
      "[20, 36, 50, 64, 71, 75, 75, 77, 82, 96]\n"
     ]
    }
   ],
   "source": [
    "a = [np.random.randint(100) for i in range(10)]\n",
    "print(a)\n",
    "quick_sort(a, 0, len(a)-1)\n",
    "print(a)"
   ]
  },
  {
   "cell_type": "code",
   "execution_count": 25,
   "metadata": {},
   "outputs": [],
   "source": [
    "def merge(A, start, mid, end):\n",
    "    \n",
    "    i = start\n",
    "    j = mid+1\n",
    "    k = 0\n",
    "    \n",
    "    temp = [0]*(end-start+1)\n",
    "    \n",
    "    while i<=mid and j<=end:\n",
    "        \n",
    "        if A[i] <= A[j]:\n",
    "            temp[k] = A[i]\n",
    "            i+=1\n",
    "            k+=1\n",
    "        else:\n",
    "            temp[k] = A[j]\n",
    "            j+=1\n",
    "            k+=1\n",
    "    while i<=mid:\n",
    "        temp[k] = A[i]\n",
    "        i+=1\n",
    "        k+=1\n",
    "    while j<=end:\n",
    "        temp[k] = A[j]\n",
    "        j+=1\n",
    "        k+=1\n",
    "        \n",
    "    for p in range(start, end+1):\n",
    "        A[p] = temp[p-start]\n",
    "        \n",
    "def merge_sort(A, start, end):\n",
    "    \n",
    "    if start<end:\n",
    "        \n",
    "        mid = (start+end)//2\n",
    "        merge_sort(A, start, mid)\n",
    "        merge_sort(A, mid+1, end)\n",
    "        merge(A, start, mid, end)"
   ]
  },
  {
   "cell_type": "code",
   "execution_count": 26,
   "metadata": {},
   "outputs": [
    {
     "name": "stdout",
     "output_type": "stream",
     "text": [
      "[27, 85, 69, 58, 62, 16, 1, 31, 83, 4]\n",
      "[1, 4, 16, 27, 31, 58, 62, 69, 83, 85]\n"
     ]
    }
   ],
   "source": [
    "a = [np.random.randint(100) for i in range(10)]\n",
    "print(a)\n",
    "merge_sort(a, 0, len(a)-1)\n",
    "print(a)"
   ]
  },
  {
   "cell_type": "code",
   "execution_count": 27,
   "metadata": {},
   "outputs": [],
   "source": [
    "def bubble_sort(A):\n",
    "    \n",
    "    swapped = False\n",
    "    for i in range(len(A)):\n",
    "        for j in range(len(A)-i-1):\n",
    "            if A[j+1] < A[j]:\n",
    "                A[j], A[j+1] = A[j+1], A[j]\n",
    "                swapped = True\n",
    "        if not swapped:\n",
    "            break"
   ]
  },
  {
   "cell_type": "code",
   "execution_count": 29,
   "metadata": {},
   "outputs": [
    {
     "name": "stdout",
     "output_type": "stream",
     "text": [
      "[56, 71, 56, 70, 91, 64, 77, 82, 33, 57]\n",
      "[33, 56, 56, 57, 64, 70, 71, 77, 82, 91]\n"
     ]
    }
   ],
   "source": [
    "a = [np.random.randint(100) for i in range(10)]\n",
    "print(a)\n",
    "bubble_sort(a)\n",
    "print(a)"
   ]
  },
  {
   "cell_type": "code",
   "execution_count": 36,
   "metadata": {},
   "outputs": [],
   "source": [
    "def insertion_sort(A):\n",
    "    \n",
    "    for i in range(1,len(A)):\n",
    "        \n",
    "        val = A[i]\n",
    "        \n",
    "        j = i-1\n",
    "        \n",
    "        while j>=0 and A[j] > val:\n",
    "            A[j+1] = A[j]\n",
    "            j-=1\n",
    "        A[j+1] = val"
   ]
  },
  {
   "cell_type": "code",
   "execution_count": 37,
   "metadata": {},
   "outputs": [
    {
     "name": "stdout",
     "output_type": "stream",
     "text": [
      "[69, 37, 78, 1, 14, 8, 23, 34, 54, 65]\n",
      "[1, 8, 14, 23, 34, 37, 54, 65, 69, 78]\n"
     ]
    }
   ],
   "source": [
    "a = [np.random.randint(100) for i in range(10)]\n",
    "print(a)\n",
    "insertion_sort(a)\n",
    "print(a)"
   ]
  },
  {
   "cell_type": "code",
   "execution_count": 38,
   "metadata": {},
   "outputs": [],
   "source": [
    "def find_min_index(A, start):\n",
    "    mini = start\n",
    "    for i in range(start, len(A)):\n",
    "        if A[i] < A[mini]:\n",
    "            mini = i\n",
    "    return mini\n",
    "\n",
    "def selection_sort(A):\n",
    "    for i in range(len(A)-1):\n",
    "        start = i\n",
    "        mini = find_min_index(A, start)\n",
    "        A[i], A[mini] = A[mini], A[i]"
   ]
  },
  {
   "cell_type": "code",
   "execution_count": 39,
   "metadata": {},
   "outputs": [
    {
     "name": "stdout",
     "output_type": "stream",
     "text": [
      "[75, 50, 66, 82, 72, 78, 88, 25, 3, 85]\n",
      "[3, 25, 50, 66, 72, 75, 78, 82, 85, 88]\n"
     ]
    }
   ],
   "source": [
    "a = [np.random.randint(100) for i in range(10)]\n",
    "print(a)\n",
    "selection_sort(a)\n",
    "print(a)"
   ]
  },
  {
   "cell_type": "code",
   "execution_count": 2,
   "metadata": {},
   "outputs": [],
   "source": [
    "def max1(A):\n",
    "    cursum = maxsum = A[0]\n",
    "    for i in range(1,len(A)):\n",
    "        cursum = max(A[i], A[i]+cursum)\n",
    "        if cursum > maxsum:\n",
    "            maxsum = cursum\n",
    "    return maxsum"
   ]
  },
  {
   "cell_type": "code",
   "execution_count": 6,
   "metadata": {},
   "outputs": [
    {
     "name": "stdout",
     "output_type": "stream",
     "text": [
      "[-10, 16, 15, -7, -7, 1, 1, 4, 1, -2]\n"
     ]
    },
    {
     "data": {
      "text/plain": [
       "31"
      ]
     },
     "execution_count": 6,
     "metadata": {},
     "output_type": "execute_result"
    }
   ],
   "source": [
    "a = [np.random.randint(-10,20) for i in range(10)]\n",
    "print(a)\n",
    "max1(a)"
   ]
  },
  {
   "cell_type": "code",
   "execution_count": 7,
   "metadata": {},
   "outputs": [
    {
     "data": {
      "text/plain": [
       "12"
      ]
     },
     "execution_count": 7,
     "metadata": {},
     "output_type": "execute_result"
    }
   ],
   "source": [
    "sum(a)"
   ]
  },
  {
   "cell_type": "code",
   "execution_count": null,
   "metadata": {},
   "outputs": [],
   "source": []
  },
  {
   "cell_type": "code",
   "execution_count": null,
   "metadata": {},
   "outputs": [],
   "source": []
  }
 ],
 "metadata": {
  "kernelspec": {
   "display_name": "Python 3",
   "language": "python",
   "name": "python3"
  },
  "language_info": {
   "codemirror_mode": {
    "name": "ipython",
    "version": 3
   },
   "file_extension": ".py",
   "mimetype": "text/x-python",
   "name": "python",
   "nbconvert_exporter": "python",
   "pygments_lexer": "ipython3",
   "version": "3.7.4"
  }
 },
 "nbformat": 4,
 "nbformat_minor": 2
}
